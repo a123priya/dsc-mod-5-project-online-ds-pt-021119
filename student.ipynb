{
 "cells": [
  {
   "cell_type": "markdown",
   "metadata": {},
   "source": [
    "# Module 5 Final Project Submission\n",
    "\n",
    "Please fill out:\n",
    "* Student name: Fernando Aguilar Islas\n",
    "* Student pace: Part-time\n",
    "* Scheduled project review date/time: TBD\n",
    "* Instructor name: Brandon Lewis\n",
    "* Blog post URL: TBD\n"
   ]
  },
  {
   "cell_type": "markdown",
   "metadata": {},
   "source": [
    "## 1. Introduction\n",
    "For this project I will use the Online Shoppers Purchasing Intention Dataset which contains information about website visitors and their behaviour on the site. This dataset tracks the user as revenue generating or not. The aim of this project is to build a model that can accurately calssify a user as revenue generating or not given his behavior when visiting the website."
   ]
  },
  {
   "cell_type": "markdown",
   "metadata": {},
   "source": [
    "## 2 Framework\n",
    "Using this dataset, I will first perform EDA to categorize the features in the dataset as numerical, continuous or discrete, and categorical variables. To help in this process I will use histograms, distribution plots and box plots, to assess the information contained in the data set. Furthermore, I will look for missing values and outliers to deal with them appropriately."
   ]
  },
  {
   "cell_type": "markdown",
   "metadata": {},
   "source": [
    "### 2.1 Import Required Libraries"
   ]
  },
  {
   "cell_type": "code",
   "execution_count": 242,
   "metadata": {},
   "outputs": [],
   "source": [
    "# EDA tools\n",
    "import pandas as pd\n",
    "import numpy as np\n",
    "import seaborn as sns\n",
    "import matplotlib.pyplot as plt\n",
    "%matplotlib inline\n",
    "np.random.seed(10)\n",
    "import warnings\n",
    "warnings.filterwarnings(\"ignore\")\n",
    "\n",
    "#Single model classifiers\n",
    "from sklearn.linear_model import LogisticRegression\n",
    "from sklearn.svm import LinearSVC\n",
    "from sklearn.neighbors import KNeighborsClassifier\n",
    "from sklearn.tree import DecisionTreeClassifier\n",
    "\n",
    "#Ensemble classifications models\n",
    "from sklearn.ensemble import RandomForestClassifier\n",
    "import xgboost as xgb\n",
    "\n",
    "#Model evaluation\n",
    "from sklearn.model_selection import train_test_split\n",
    "from sklearn.metrics import (accuracy_score,confusion_matrix, classification_report,roc_curve, roc_auc_score,\n",
    "f1_score, recall_score, precision_score)\n",
    "\n",
    "# Imbalance, Hyperparameter tunning and pipelines\n",
    "from imblearn.over_sampling import SMOTENC\n",
    "from sklearn.preprocessing import StandardScaler\n",
    "from sklearn.decomposition import PCA\n",
    "from tpot import TPOTClassifier\n",
    "from sklearn.model_selection import GridSearchCV\n",
    "from sklearn.pipeline import Pipeline"
   ]
  },
  {
   "cell_type": "markdown",
   "metadata": {},
   "source": [
    "## 2.2 Helper Functions"
   ]
  },
  {
   "cell_type": "code",
   "execution_count": 281,
   "metadata": {},
   "outputs": [],
   "source": [
    "def distbox_plot(data):\n",
    "    '''Function to plot a seaborn distribution plot \n",
    "        with a box plot on top'''\n",
    "    # Cut the window in 2 parts\n",
    "    f, (ax_box, ax_hist) = plt.subplots(2, sharex=True, figsize=(14,4),gridspec_kw={\"height_ratios\": (.15, .85)})\n",
    "    # Add a graph in each part\n",
    "    sns.boxplot(data, ax=ax_box)\n",
    "    sns.distplot(data, ax=ax_hist)\n",
    "    # Remove x axis name for the boxplot\n",
    "    ax_box.set(xlabel='')\n",
    "    #Print describtive statistics\n",
    "    print(data.describe())\n",
    "    \n",
    "def best_k(X_train, y_train, X_test, y_test, min_k=1, max_k=10):\n",
    "    best_k = 0\n",
    "    best_score = 0.0\n",
    "    for k in range(min_k, max_k+1, 2):\n",
    "        knn = KNeighborsClassifier(n_neighbors=k)\n",
    "        knn.fit(X_train, y_train)\n",
    "        preds = knn.predict(X_test)\n",
    "        f1 = f1_score(y_test, preds)\n",
    "        if f1 > best_score:\n",
    "            best_k = k\n",
    "            best_score = f1\n",
    "\n",
    "def baseline_models(X,y,sort='f1'):\n",
    "    models=[KNeighborsClassifier(),DecisionTreeClassifier(),LinearSVC(),LogisticRegression(),\n",
    "            RandomForestClassifier(),xgb.XGBClassifier()]\n",
    "    X_train, X_test, y_train, y_test = train_test_split(X,y)\n",
    "    accuracy = []\n",
    "    f1 = []\n",
    "    auc = []\n",
    "    recall = []\n",
    "    precision = []\n",
    "    for model in models:\n",
    "        print('Classification Model: ',model,'\\n')\n",
    "        clf = model\n",
    "        clf.fit(X_train, y_train)\n",
    "        test_preds = clf.predict(X_test)\n",
    "        f1.append(f1_score(y_test, test_preds))\n",
    "        accuracy.append(accuracy_score(y_test, test_preds))\n",
    "        auc.append(roc_auc_score(y_test, test_preds))\n",
    "        recall.append(recall_score(y_test, test_preds))\n",
    "        precision.append(precision_score(y_test, test_preds))\n",
    "        print(classification_report(y_test, test_preds),'\\n')\n",
    "    results = pd.DataFrame([f1,accuracy, precision,recall,auc],\n",
    "                      index= ['f1','accuracy','precision','recall','auc'],\n",
    "                           columns=['KNeighbors','DecisionTree','LinearSVC',\n",
    "                                    'LogisticRegression','RandomForest','XGBoost'])\n",
    "    return results.transpose()\n",
    "\n",
    "def plot_confusion_matrix(y_true, y_pred, classes,\n",
    "                          normalize=False,\n",
    "                          title='Confusion Matrix',\n",
    "                          cmap=plt.cm.Blues):\n",
    "    \"\"\"\n",
    "    <scki-kit learn sample function.\n",
    "    This function prints and plots the confusion matrix.\n",
    "    Normalization can be applied by setting `normalize=True`.\n",
    "    \"\"\"\n",
    "    if not title:\n",
    "        if normalize:\n",
    "            title = 'Normalized confusion matrix'\n",
    "        else:\n",
    "            title = 'Confusion matrix, without normalization'\n",
    "\n",
    "    # Compute confusion matrix\n",
    "    cm = confusion_matrix(y_true, y_pred)\n",
    "    # Only use the labels that appear in the data\n",
    "    classes = classes[unique_labels(y_true, y_pred)]\n",
    "    if normalize:\n",
    "        cm = cm.astype('float') / cm.sum(axis=1)[:, np.newaxis]\n",
    "        print(\"Normalized confusion matrix\")\n",
    "    else:\n",
    "        print('Confusion matrix, without normalization')\n",
    "\n",
    "    print(cm)\n",
    "\n",
    "    fig, ax = plt.subplots()\n",
    "    im = ax.imshow(cm, interpolation='nearest', cmap=cmap)\n",
    "    ax.figure.colorbar(im, ax=ax)\n",
    "    # We want to show all ticks...\n",
    "    ax.set(xticks=np.arange(cm.shape[1]),\n",
    "           yticks=np.arange(cm.shape[0]),\n",
    "           # ... and label them with the respective list entries\n",
    "           xticklabels=classes, yticklabels=classes,\n",
    "           title=title,\n",
    "           ylabel='True label',\n",
    "           xlabel='Predicted label')\n",
    "\n",
    "    # Rotate the tick labels and set their alignment.\n",
    "    plt.setp(ax.get_xticklabels(), rotation=45, ha=\"right\",\n",
    "             rotation_mode=\"anchor\")\n",
    "\n",
    "    # Loop over data dimensions and create text annotations.\n",
    "    fmt = '.2f' if normalize else 'd'\n",
    "    thresh = cm.max() / 2.\n",
    "    for i in range(cm.shape[0]):\n",
    "        for j in range(cm.shape[1]):\n",
    "            ax.text(j, i, format(cm[i, j], fmt),\n",
    "                    ha=\"center\", va=\"center\",\n",
    "                    color=\"white\" if cm[i, j] > thresh else \"black\")\n",
    "    fig.tight_layout()\n",
    "    return ax\n"
   ]
  },
  {
   "cell_type": "markdown",
   "metadata": {},
   "source": [
    "## 3. Exploratory Data Analysis\n"
   ]
  },
  {
   "cell_type": "code",
   "execution_count": 3,
   "metadata": {},
   "outputs": [
    {
     "name": "stdout",
     "output_type": "stream",
     "text": [
      "<class 'pandas.core.frame.DataFrame'>\n",
      "RangeIndex: 12330 entries, 0 to 12329\n",
      "Data columns (total 18 columns):\n",
      "Administrative             12330 non-null int64\n",
      "Administrative_Duration    12330 non-null float64\n",
      "Informational              12330 non-null int64\n",
      "Informational_Duration     12330 non-null float64\n",
      "ProductRelated             12330 non-null int64\n",
      "ProductRelated_Duration    12330 non-null float64\n",
      "BounceRates                12330 non-null float64\n",
      "ExitRates                  12330 non-null float64\n",
      "PageValues                 12330 non-null float64\n",
      "SpecialDay                 12330 non-null float64\n",
      "Month                      12330 non-null object\n",
      "OperatingSystems           12330 non-null int64\n",
      "Browser                    12330 non-null int64\n",
      "Region                     12330 non-null int64\n",
      "TrafficType                12330 non-null int64\n",
      "VisitorType                12330 non-null object\n",
      "Weekend                    12330 non-null bool\n",
      "Revenue                    12330 non-null bool\n",
      "dtypes: bool(2), float64(7), int64(7), object(2)\n",
      "memory usage: 1.5+ MB\n"
     ]
    }
   ],
   "source": [
    "#Load the file into a pandas data frame.\n",
    "data = pd.read_csv(\"online_shoppers_intention.csv\")\n",
    "#Get structural information of the data set.\n",
    "data.info()"
   ]
  },
  {
   "cell_type": "markdown",
   "metadata": {},
   "source": [
    "The dataset contains 18 coluns total of which 17 are features and 1 is the target variable, in this instance, 'Revenue'. Below is a description of waht each column means in the dataset:\n",
    "\n",
    "* Administrative: Number of 'administrative' pages viewed\n",
    "* Administrative_Duration: Time spent looking at 'administrative' pages\n",
    "* Informational: Number of 'informational' pages viewed\n",
    "* Informational_Duration: Time spent looking at 'informational' pages\n",
    "* ProductRelated: Number of 'product related' pages viewed\n",
    "* ProductRelated_Duration: Time spent looking at 'product related' pages\n",
    "* BounceRates: The percentage of visitors who enter the site from that page and then leave (\"bounce\") without triggering any other requests to the analytics server during that session\n",
    "* ExitRates: It is calculated as for all pageviews to the page, the percentage that were the last in the session\n",
    "* PageValues: Represents the average value for a web page that a user visited before completing an e-commerce transaction\n",
    "* SpecialDay: Indicates the closeness of the site visiting time to a specific special day (e.g. Mother’s Day, Valentine's Day) in which the sessions are more likely to be finalized with transaction\n",
    "* Month: Month of the year for the session\n",
    "* OperatingSystems: Operating system used for the session\n",
    "* Browser: Browser used for the session\n",
    "* Region: Region of the user\n",
    "* TrafficType: Traffic Type\n",
    "* VisitorType: Types of Visitor\n",
    "* Weekend: Session occured on a weekend or not\n",
    "* RevenueRevenue: Represents whether the user generated reveue or not\n",
    "\n",
    "It looks like the data contains numerical and non-numerical variables. Let's look at the first few rows of the dataset.\n"
   ]
  },
  {
   "cell_type": "code",
   "execution_count": 4,
   "metadata": {},
   "outputs": [
    {
     "data": {
      "text/html": [
       "<div>\n",
       "<style scoped>\n",
       "    .dataframe tbody tr th:only-of-type {\n",
       "        vertical-align: middle;\n",
       "    }\n",
       "\n",
       "    .dataframe tbody tr th {\n",
       "        vertical-align: top;\n",
       "    }\n",
       "\n",
       "    .dataframe thead th {\n",
       "        text-align: right;\n",
       "    }\n",
       "</style>\n",
       "<table border=\"1\" class=\"dataframe\">\n",
       "  <thead>\n",
       "    <tr style=\"text-align: right;\">\n",
       "      <th></th>\n",
       "      <th>Administrative</th>\n",
       "      <th>Administrative_Duration</th>\n",
       "      <th>Informational</th>\n",
       "      <th>Informational_Duration</th>\n",
       "      <th>ProductRelated</th>\n",
       "      <th>ProductRelated_Duration</th>\n",
       "      <th>BounceRates</th>\n",
       "      <th>ExitRates</th>\n",
       "      <th>PageValues</th>\n",
       "    </tr>\n",
       "  </thead>\n",
       "  <tbody>\n",
       "    <tr>\n",
       "      <th>0</th>\n",
       "      <td>0</td>\n",
       "      <td>0.0</td>\n",
       "      <td>0</td>\n",
       "      <td>0.0</td>\n",
       "      <td>1</td>\n",
       "      <td>0.000000</td>\n",
       "      <td>0.20</td>\n",
       "      <td>0.20</td>\n",
       "      <td>0.0</td>\n",
       "    </tr>\n",
       "    <tr>\n",
       "      <th>1</th>\n",
       "      <td>0</td>\n",
       "      <td>0.0</td>\n",
       "      <td>0</td>\n",
       "      <td>0.0</td>\n",
       "      <td>2</td>\n",
       "      <td>64.000000</td>\n",
       "      <td>0.00</td>\n",
       "      <td>0.10</td>\n",
       "      <td>0.0</td>\n",
       "    </tr>\n",
       "    <tr>\n",
       "      <th>2</th>\n",
       "      <td>0</td>\n",
       "      <td>0.0</td>\n",
       "      <td>0</td>\n",
       "      <td>0.0</td>\n",
       "      <td>1</td>\n",
       "      <td>0.000000</td>\n",
       "      <td>0.20</td>\n",
       "      <td>0.20</td>\n",
       "      <td>0.0</td>\n",
       "    </tr>\n",
       "    <tr>\n",
       "      <th>3</th>\n",
       "      <td>0</td>\n",
       "      <td>0.0</td>\n",
       "      <td>0</td>\n",
       "      <td>0.0</td>\n",
       "      <td>2</td>\n",
       "      <td>2.666667</td>\n",
       "      <td>0.05</td>\n",
       "      <td>0.14</td>\n",
       "      <td>0.0</td>\n",
       "    </tr>\n",
       "    <tr>\n",
       "      <th>4</th>\n",
       "      <td>0</td>\n",
       "      <td>0.0</td>\n",
       "      <td>0</td>\n",
       "      <td>0.0</td>\n",
       "      <td>10</td>\n",
       "      <td>627.500000</td>\n",
       "      <td>0.02</td>\n",
       "      <td>0.05</td>\n",
       "      <td>0.0</td>\n",
       "    </tr>\n",
       "  </tbody>\n",
       "</table>\n",
       "</div>"
      ],
      "text/plain": [
       "   Administrative  Administrative_Duration  Informational  \\\n",
       "0               0                      0.0              0   \n",
       "1               0                      0.0              0   \n",
       "2               0                      0.0              0   \n",
       "3               0                      0.0              0   \n",
       "4               0                      0.0              0   \n",
       "\n",
       "   Informational_Duration  ProductRelated  ProductRelated_Duration  \\\n",
       "0                     0.0               1                 0.000000   \n",
       "1                     0.0               2                64.000000   \n",
       "2                     0.0               1                 0.000000   \n",
       "3                     0.0               2                 2.666667   \n",
       "4                     0.0              10               627.500000   \n",
       "\n",
       "   BounceRates  ExitRates  PageValues  \n",
       "0         0.20       0.20         0.0  \n",
       "1         0.00       0.10         0.0  \n",
       "2         0.20       0.20         0.0  \n",
       "3         0.05       0.14         0.0  \n",
       "4         0.02       0.05         0.0  "
      ]
     },
     "execution_count": 4,
     "metadata": {},
     "output_type": "execute_result"
    }
   ],
   "source": [
    "#Visualize first 5 rows of data of the first 9 columns.\n",
    "data.head().iloc[:,:9]"
   ]
  },
  {
   "cell_type": "code",
   "execution_count": 5,
   "metadata": {},
   "outputs": [
    {
     "data": {
      "text/html": [
       "<div>\n",
       "<style scoped>\n",
       "    .dataframe tbody tr th:only-of-type {\n",
       "        vertical-align: middle;\n",
       "    }\n",
       "\n",
       "    .dataframe tbody tr th {\n",
       "        vertical-align: top;\n",
       "    }\n",
       "\n",
       "    .dataframe thead th {\n",
       "        text-align: right;\n",
       "    }\n",
       "</style>\n",
       "<table border=\"1\" class=\"dataframe\">\n",
       "  <thead>\n",
       "    <tr style=\"text-align: right;\">\n",
       "      <th></th>\n",
       "      <th>SpecialDay</th>\n",
       "      <th>Month</th>\n",
       "      <th>OperatingSystems</th>\n",
       "      <th>Browser</th>\n",
       "      <th>Region</th>\n",
       "      <th>TrafficType</th>\n",
       "      <th>VisitorType</th>\n",
       "      <th>Weekend</th>\n",
       "      <th>Revenue</th>\n",
       "    </tr>\n",
       "  </thead>\n",
       "  <tbody>\n",
       "    <tr>\n",
       "      <th>0</th>\n",
       "      <td>0.0</td>\n",
       "      <td>Feb</td>\n",
       "      <td>1</td>\n",
       "      <td>1</td>\n",
       "      <td>1</td>\n",
       "      <td>1</td>\n",
       "      <td>Returning_Visitor</td>\n",
       "      <td>False</td>\n",
       "      <td>False</td>\n",
       "    </tr>\n",
       "    <tr>\n",
       "      <th>1</th>\n",
       "      <td>0.0</td>\n",
       "      <td>Feb</td>\n",
       "      <td>2</td>\n",
       "      <td>2</td>\n",
       "      <td>1</td>\n",
       "      <td>2</td>\n",
       "      <td>Returning_Visitor</td>\n",
       "      <td>False</td>\n",
       "      <td>False</td>\n",
       "    </tr>\n",
       "    <tr>\n",
       "      <th>2</th>\n",
       "      <td>0.0</td>\n",
       "      <td>Feb</td>\n",
       "      <td>4</td>\n",
       "      <td>1</td>\n",
       "      <td>9</td>\n",
       "      <td>3</td>\n",
       "      <td>Returning_Visitor</td>\n",
       "      <td>False</td>\n",
       "      <td>False</td>\n",
       "    </tr>\n",
       "    <tr>\n",
       "      <th>3</th>\n",
       "      <td>0.0</td>\n",
       "      <td>Feb</td>\n",
       "      <td>3</td>\n",
       "      <td>2</td>\n",
       "      <td>2</td>\n",
       "      <td>4</td>\n",
       "      <td>Returning_Visitor</td>\n",
       "      <td>False</td>\n",
       "      <td>False</td>\n",
       "    </tr>\n",
       "    <tr>\n",
       "      <th>4</th>\n",
       "      <td>0.0</td>\n",
       "      <td>Feb</td>\n",
       "      <td>3</td>\n",
       "      <td>3</td>\n",
       "      <td>1</td>\n",
       "      <td>4</td>\n",
       "      <td>Returning_Visitor</td>\n",
       "      <td>True</td>\n",
       "      <td>False</td>\n",
       "    </tr>\n",
       "  </tbody>\n",
       "</table>\n",
       "</div>"
      ],
      "text/plain": [
       "   SpecialDay Month  OperatingSystems  Browser  Region  TrafficType  \\\n",
       "0         0.0   Feb                 1        1       1            1   \n",
       "1         0.0   Feb                 2        2       1            2   \n",
       "2         0.0   Feb                 4        1       9            3   \n",
       "3         0.0   Feb                 3        2       2            4   \n",
       "4         0.0   Feb                 3        3       1            4   \n",
       "\n",
       "         VisitorType  Weekend  Revenue  \n",
       "0  Returning_Visitor    False    False  \n",
       "1  Returning_Visitor    False    False  \n",
       "2  Returning_Visitor    False    False  \n",
       "3  Returning_Visitor    False    False  \n",
       "4  Returning_Visitor     True    False  "
      ]
     },
     "execution_count": 5,
     "metadata": {},
     "output_type": "execute_result"
    }
   ],
   "source": [
    "#Visualize first 5 rows of data of the remaining columns.\n",
    "data.head().iloc[:,9:]"
   ]
  },
  {
   "cell_type": "markdown",
   "metadata": {},
   "source": [
    "From this first inspection at the data contained in the dataset, some of the numerical features are actually categorical such as OperatingSystems, Browser, and Region, to name a few. Before doing feature engineering, i will first look for missing or dummy values in the data and outliers."
   ]
  },
  {
   "cell_type": "code",
   "execution_count": 97,
   "metadata": {},
   "outputs": [
    {
     "data": {
      "text/plain": [
       "Administrative             False\n",
       "Administrative_Duration    False\n",
       "Informational              False\n",
       "Informational_Duration     False\n",
       "ProductRelated             False\n",
       "ProductRelated_Duration    False\n",
       "BounceRates                False\n",
       "ExitRates                  False\n",
       "PageValues                 False\n",
       "SpecialDay                 False\n",
       "Month                      False\n",
       "OperatingSystems           False\n",
       "Browser                    False\n",
       "Region                     False\n",
       "TrafficType                False\n",
       "VisitorType                False\n",
       "Weekend                    False\n",
       "Revenue                    False\n",
       "dtype: bool"
      ]
     },
     "execution_count": 97,
     "metadata": {},
     "output_type": "execute_result"
    }
   ],
   "source": [
    "#Look for missing values.\n",
    "data.isna().any()"
   ]
  },
  {
   "cell_type": "markdown",
   "metadata": {},
   "source": [
    "The dataset does not contain any missing values. Let's have a deeper look at the numerical variables in the dataset. I will start by describing the numerical features. Next, I will view at the histograms and lastly I will inspect boxplots."
   ]
  },
  {
   "cell_type": "code",
   "execution_count": 7,
   "metadata": {},
   "outputs": [
    {
     "data": {
      "text/html": [
       "<div>\n",
       "<style scoped>\n",
       "    .dataframe tbody tr th:only-of-type {\n",
       "        vertical-align: middle;\n",
       "    }\n",
       "\n",
       "    .dataframe tbody tr th {\n",
       "        vertical-align: top;\n",
       "    }\n",
       "\n",
       "    .dataframe thead th {\n",
       "        text-align: right;\n",
       "    }\n",
       "</style>\n",
       "<table border=\"1\" class=\"dataframe\">\n",
       "  <thead>\n",
       "    <tr style=\"text-align: right;\">\n",
       "      <th></th>\n",
       "      <th>Administrative</th>\n",
       "      <th>Administrative_Duration</th>\n",
       "      <th>Informational</th>\n",
       "      <th>Informational_Duration</th>\n",
       "      <th>ProductRelated</th>\n",
       "      <th>ProductRelated_Duration</th>\n",
       "      <th>BounceRates</th>\n",
       "      <th>ExitRates</th>\n",
       "    </tr>\n",
       "  </thead>\n",
       "  <tbody>\n",
       "    <tr>\n",
       "      <th>count</th>\n",
       "      <td>12330.000000</td>\n",
       "      <td>12330.000000</td>\n",
       "      <td>12330.000000</td>\n",
       "      <td>12330.000000</td>\n",
       "      <td>12330.000000</td>\n",
       "      <td>12330.000000</td>\n",
       "      <td>12330.000000</td>\n",
       "      <td>12330.000000</td>\n",
       "    </tr>\n",
       "    <tr>\n",
       "      <th>mean</th>\n",
       "      <td>2.315166</td>\n",
       "      <td>80.818611</td>\n",
       "      <td>0.503569</td>\n",
       "      <td>34.472398</td>\n",
       "      <td>31.731468</td>\n",
       "      <td>1194.746220</td>\n",
       "      <td>0.022191</td>\n",
       "      <td>0.043073</td>\n",
       "    </tr>\n",
       "    <tr>\n",
       "      <th>std</th>\n",
       "      <td>3.321784</td>\n",
       "      <td>176.779107</td>\n",
       "      <td>1.270156</td>\n",
       "      <td>140.749294</td>\n",
       "      <td>44.475503</td>\n",
       "      <td>1913.669288</td>\n",
       "      <td>0.048488</td>\n",
       "      <td>0.048597</td>\n",
       "    </tr>\n",
       "    <tr>\n",
       "      <th>min</th>\n",
       "      <td>0.000000</td>\n",
       "      <td>0.000000</td>\n",
       "      <td>0.000000</td>\n",
       "      <td>0.000000</td>\n",
       "      <td>0.000000</td>\n",
       "      <td>0.000000</td>\n",
       "      <td>0.000000</td>\n",
       "      <td>0.000000</td>\n",
       "    </tr>\n",
       "    <tr>\n",
       "      <th>25%</th>\n",
       "      <td>0.000000</td>\n",
       "      <td>0.000000</td>\n",
       "      <td>0.000000</td>\n",
       "      <td>0.000000</td>\n",
       "      <td>7.000000</td>\n",
       "      <td>184.137500</td>\n",
       "      <td>0.000000</td>\n",
       "      <td>0.014286</td>\n",
       "    </tr>\n",
       "    <tr>\n",
       "      <th>50%</th>\n",
       "      <td>1.000000</td>\n",
       "      <td>7.500000</td>\n",
       "      <td>0.000000</td>\n",
       "      <td>0.000000</td>\n",
       "      <td>18.000000</td>\n",
       "      <td>598.936905</td>\n",
       "      <td>0.003112</td>\n",
       "      <td>0.025156</td>\n",
       "    </tr>\n",
       "    <tr>\n",
       "      <th>75%</th>\n",
       "      <td>4.000000</td>\n",
       "      <td>93.256250</td>\n",
       "      <td>0.000000</td>\n",
       "      <td>0.000000</td>\n",
       "      <td>38.000000</td>\n",
       "      <td>1464.157213</td>\n",
       "      <td>0.016813</td>\n",
       "      <td>0.050000</td>\n",
       "    </tr>\n",
       "    <tr>\n",
       "      <th>max</th>\n",
       "      <td>27.000000</td>\n",
       "      <td>3398.750000</td>\n",
       "      <td>24.000000</td>\n",
       "      <td>2549.375000</td>\n",
       "      <td>705.000000</td>\n",
       "      <td>63973.522230</td>\n",
       "      <td>0.200000</td>\n",
       "      <td>0.200000</td>\n",
       "    </tr>\n",
       "  </tbody>\n",
       "</table>\n",
       "</div>"
      ],
      "text/plain": [
       "       Administrative  Administrative_Duration  Informational  \\\n",
       "count    12330.000000             12330.000000   12330.000000   \n",
       "mean         2.315166                80.818611       0.503569   \n",
       "std          3.321784               176.779107       1.270156   \n",
       "min          0.000000                 0.000000       0.000000   \n",
       "25%          0.000000                 0.000000       0.000000   \n",
       "50%          1.000000                 7.500000       0.000000   \n",
       "75%          4.000000                93.256250       0.000000   \n",
       "max         27.000000              3398.750000      24.000000   \n",
       "\n",
       "       Informational_Duration  ProductRelated  ProductRelated_Duration  \\\n",
       "count            12330.000000    12330.000000             12330.000000   \n",
       "mean                34.472398       31.731468              1194.746220   \n",
       "std                140.749294       44.475503              1913.669288   \n",
       "min                  0.000000        0.000000                 0.000000   \n",
       "25%                  0.000000        7.000000               184.137500   \n",
       "50%                  0.000000       18.000000               598.936905   \n",
       "75%                  0.000000       38.000000              1464.157213   \n",
       "max               2549.375000      705.000000             63973.522230   \n",
       "\n",
       "        BounceRates     ExitRates  \n",
       "count  12330.000000  12330.000000  \n",
       "mean       0.022191      0.043073  \n",
       "std        0.048488      0.048597  \n",
       "min        0.000000      0.000000  \n",
       "25%        0.000000      0.014286  \n",
       "50%        0.003112      0.025156  \n",
       "75%        0.016813      0.050000  \n",
       "max        0.200000      0.200000  "
      ]
     },
     "execution_count": 7,
     "metadata": {},
     "output_type": "execute_result"
    }
   ],
   "source": [
    "data.describe().iloc[:,:8]"
   ]
  },
  {
   "cell_type": "code",
   "execution_count": 8,
   "metadata": {},
   "outputs": [
    {
     "data": {
      "text/html": [
       "<div>\n",
       "<style scoped>\n",
       "    .dataframe tbody tr th:only-of-type {\n",
       "        vertical-align: middle;\n",
       "    }\n",
       "\n",
       "    .dataframe tbody tr th {\n",
       "        vertical-align: top;\n",
       "    }\n",
       "\n",
       "    .dataframe thead th {\n",
       "        text-align: right;\n",
       "    }\n",
       "</style>\n",
       "<table border=\"1\" class=\"dataframe\">\n",
       "  <thead>\n",
       "    <tr style=\"text-align: right;\">\n",
       "      <th></th>\n",
       "      <th>PageValues</th>\n",
       "      <th>SpecialDay</th>\n",
       "      <th>OperatingSystems</th>\n",
       "      <th>Browser</th>\n",
       "      <th>Region</th>\n",
       "      <th>TrafficType</th>\n",
       "    </tr>\n",
       "  </thead>\n",
       "  <tbody>\n",
       "    <tr>\n",
       "      <th>count</th>\n",
       "      <td>12330.000000</td>\n",
       "      <td>12330.000000</td>\n",
       "      <td>12330.000000</td>\n",
       "      <td>12330.000000</td>\n",
       "      <td>12330.000000</td>\n",
       "      <td>12330.000000</td>\n",
       "    </tr>\n",
       "    <tr>\n",
       "      <th>mean</th>\n",
       "      <td>5.889258</td>\n",
       "      <td>0.061427</td>\n",
       "      <td>2.124006</td>\n",
       "      <td>2.357097</td>\n",
       "      <td>3.147364</td>\n",
       "      <td>4.069586</td>\n",
       "    </tr>\n",
       "    <tr>\n",
       "      <th>std</th>\n",
       "      <td>18.568437</td>\n",
       "      <td>0.198917</td>\n",
       "      <td>0.911325</td>\n",
       "      <td>1.717277</td>\n",
       "      <td>2.401591</td>\n",
       "      <td>4.025169</td>\n",
       "    </tr>\n",
       "    <tr>\n",
       "      <th>min</th>\n",
       "      <td>0.000000</td>\n",
       "      <td>0.000000</td>\n",
       "      <td>1.000000</td>\n",
       "      <td>1.000000</td>\n",
       "      <td>1.000000</td>\n",
       "      <td>1.000000</td>\n",
       "    </tr>\n",
       "    <tr>\n",
       "      <th>25%</th>\n",
       "      <td>0.000000</td>\n",
       "      <td>0.000000</td>\n",
       "      <td>2.000000</td>\n",
       "      <td>2.000000</td>\n",
       "      <td>1.000000</td>\n",
       "      <td>2.000000</td>\n",
       "    </tr>\n",
       "    <tr>\n",
       "      <th>50%</th>\n",
       "      <td>0.000000</td>\n",
       "      <td>0.000000</td>\n",
       "      <td>2.000000</td>\n",
       "      <td>2.000000</td>\n",
       "      <td>3.000000</td>\n",
       "      <td>2.000000</td>\n",
       "    </tr>\n",
       "    <tr>\n",
       "      <th>75%</th>\n",
       "      <td>0.000000</td>\n",
       "      <td>0.000000</td>\n",
       "      <td>3.000000</td>\n",
       "      <td>2.000000</td>\n",
       "      <td>4.000000</td>\n",
       "      <td>4.000000</td>\n",
       "    </tr>\n",
       "    <tr>\n",
       "      <th>max</th>\n",
       "      <td>361.763742</td>\n",
       "      <td>1.000000</td>\n",
       "      <td>8.000000</td>\n",
       "      <td>13.000000</td>\n",
       "      <td>9.000000</td>\n",
       "      <td>20.000000</td>\n",
       "    </tr>\n",
       "  </tbody>\n",
       "</table>\n",
       "</div>"
      ],
      "text/plain": [
       "         PageValues    SpecialDay  OperatingSystems       Browser  \\\n",
       "count  12330.000000  12330.000000      12330.000000  12330.000000   \n",
       "mean       5.889258      0.061427          2.124006      2.357097   \n",
       "std       18.568437      0.198917          0.911325      1.717277   \n",
       "min        0.000000      0.000000          1.000000      1.000000   \n",
       "25%        0.000000      0.000000          2.000000      2.000000   \n",
       "50%        0.000000      0.000000          2.000000      2.000000   \n",
       "75%        0.000000      0.000000          3.000000      2.000000   \n",
       "max      361.763742      1.000000          8.000000     13.000000   \n",
       "\n",
       "             Region   TrafficType  \n",
       "count  12330.000000  12330.000000  \n",
       "mean       3.147364      4.069586  \n",
       "std        2.401591      4.025169  \n",
       "min        1.000000      1.000000  \n",
       "25%        1.000000      2.000000  \n",
       "50%        3.000000      2.000000  \n",
       "75%        4.000000      4.000000  \n",
       "max        9.000000     20.000000  "
      ]
     },
     "execution_count": 8,
     "metadata": {},
     "output_type": "execute_result"
    }
   ],
   "source": [
    "data.describe().iloc[:,8:]"
   ]
  },
  {
   "cell_type": "markdown",
   "metadata": {},
   "source": [
    "The numerical features in the data set are made up off continuous, discrete and categorical variables. Another observation is that most of the variables have a minimum value of zero, meining that probably they are zero-inflated variables which are skwed to the right. I will look at the unique number of values in each of the varibles with discrete values, to divide them into numeric or categorical variables."
   ]
  },
  {
   "cell_type": "code",
   "execution_count": 143,
   "metadata": {},
   "outputs": [
    {
     "name": "stdout",
     "output_type": "stream",
     "text": [
      "Administrative: 27\n",
      "Informational: 17\n",
      "ProductRelated: 311\n",
      "OperatingSystems: 8\n",
      "Browser: 13\n",
      "Region: 9\n",
      "TrafficType: 20\n"
     ]
    }
   ],
   "source": [
    "#Get number of unique values for each discrete variable in the dataset.\n",
    "for col in data.describe().columns:\n",
    "    if data[col].dtype == int:\n",
    "        print(f'{col}:', data[col].nunique())"
   ]
  },
  {
   "cell_type": "markdown",
   "metadata": {},
   "source": [
    "With this information I will use the Administrative, Informational, and ProductRelated as discrete variables since each of the values represent the amount of pages per category the user viewed during the session. I will use OperatingSystems, Browser, region, and TrafficType as categorical variables since there is not a numerical relationship amongts the different values, but they are label encoded to differentiate amongst operating system, and browser used by the user, his geographic region, and how the user got the site. I will gather more insight by looking at the histograms."
   ]
  },
  {
   "cell_type": "code",
   "execution_count": 10,
   "metadata": {},
   "outputs": [
    {
     "data": {
      "image/png": "[encoded data removed]",
      "text/plain": [
       "<Figure size 1008x1008 with 16 Axes>"
      ]
     },
     "metadata": {
      "needs_background": "light"
     },
     "output_type": "display_data"
    }
   ],
   "source": [
    "data[data.describe().columns].hist(figsize=(14,14));"
   ]
  },
  {
   "cell_type": "markdown",
   "metadata": {},
   "source": [
    "None of the features is normally distributed, since they are highly skewed to the right, most distributions seem to follow a lognormal distribution. Initially, the one variable that catches my attention is SpeciaDay. Althoug it apparently seems like a continuous varibale, I believe it could actually be considered as either a binary or categorical feature. Let's look closer at its content."
   ]
  },
  {
   "cell_type": "code",
   "execution_count": 11,
   "metadata": {},
   "outputs": [
    {
     "data": {
      "text/plain": [
       "0.0    11079\n",
       "0.6      351\n",
       "0.8      325\n",
       "0.4      243\n",
       "0.2      178\n",
       "1.0      154\n",
       "Name: SpecialDay, dtype: int64"
      ]
     },
     "execution_count": 11,
     "metadata": {},
     "output_type": "execute_result"
    }
   ],
   "source": [
    "#Get value counts for SpecialDay\n",
    "data.SpecialDay.value_counts()"
   ]
  },
  {
   "cell_type": "markdown",
   "metadata": {},
   "source": [
    "This variable would be better considered as categorical since it has only 6 values and eventhough they are numerical, they are not relationable amongts each other. The lowest value of zero means that the date when the user accessed the webstie is not a special day or even close to it, the value increases as it gets closer the the special day. The highest value of 1 means the user visited the website on a special day. Special day refers to holidays or special occassions such as Mother's Day, Valentine's Day, etc.\n",
    "\n",
    "Now I will look at the non-numerical variables in the dataset."
   ]
  },
  {
   "cell_type": "code",
   "execution_count": 144,
   "metadata": {},
   "outputs": [
    {
     "name": "stdout",
     "output_type": "stream",
     "text": [
      "Non-numerical features:  ['VisitorType', 'Month', 'Revenue', 'Weekend']\n"
     ]
    }
   ],
   "source": [
    "#Get non-numerical features.\n",
    "non_num_cols = list(set(data.columns) - set(data.describe().columns))\n",
    "print('Non-numerical features: ',non_num_cols)"
   ]
  },
  {
   "cell_type": "code",
   "execution_count": 183,
   "metadata": {
    "scrolled": false
   },
   "outputs": [
    {
     "data": {
      "image/png": "[encoded data removed]",
      "text/plain": [
       "<Figure size 864x720 with 4 Axes>"
      ]
     },
     "metadata": {
      "needs_background": "light"
     },
     "output_type": "display_data"
    }
   ],
   "source": [
    "#Instantiate a 2x2 figure for the 4 plots.\n",
    "fig, axs = plt.subplots(2, 2,figsize=(12,10))\n",
    "#Create a bar chart for each of the non-numerical variables.\n",
    "for i, col in enumerate(non_num_cols):\n",
    "    #Helper variables to assign the correct axes to each of the 4 plots.\n",
    "    j=i//2\n",
    "    k=i%2\n",
    "    #Setting a color palette for the plots.\n",
    "    color = sns.color_palette(\"GnBu_d\",n_colors=len(data[col].unique()))\n",
    "    #Create the bar plot.\n",
    "    axs[j,k].bar(data[col].astype('str').unique(), data[col].value_counts(), color= color)\n",
    "    axs[j,k].set_title(col)\n",
    "    axs[j,k].set_ylabel('Frequency')\n",
    "    axs[j,k].set_xlabel('Category')\n",
    "plt.show();"
   ]
  },
  {
   "cell_type": "markdown",
   "metadata": {},
   "source": [
    "The only feature that draws my attention amongst this non-numerical features is visitor-type, since it by definition be a binary variable. A user is either a returning visitor or a new one. There should not be other. Now, I will take a look at its frequency to decide weather to classify those 'other' visitor-types as new_visitor or to drop them if they are outliers."
   ]
  },
  {
   "cell_type": "code",
   "execution_count": 306,
   "metadata": {},
   "outputs": [
    {
     "name": "stdout",
     "output_type": "stream",
     "text": [
      "Returning_Visitor    10551\n",
      "New_Visitor           1694\n",
      "Other                   85\n",
      "Name: VisitorType, dtype: int64 \n",
      "\n",
      "Number of revenue generating users as VisitorType 'Other':  16\n"
     ]
    }
   ],
   "source": [
    "print(data.VisitorType.value_counts(),'\\n')\n",
    "print('''Number of revenue generating users as VisitorType 'Other': ''',\n",
    "      data[data['VisitorType']=='Other'][data['Revenue']==True].Revenue.count())"
   ]
  },
  {
   "cell_type": "markdown",
   "metadata": {},
   "source": [
    "Even though, the 'Other' category has a sample size of 85 which is very small compared to the whole data set, I will not delete it since some of the sessions resulted in revenue and might add knowledge to the model. Also, it is important to keep this category since the model will be dealing with this data in real time.\n",
    "\n",
    "Another concern is that it appears that the incidence in the target variable shows the dataset might be imbalanced. Target incidence is defined as the number of cases of each individual target value in a dataset. Target incidence shows if  the dataset is  balanced or imbalanced. This is important since the aim of the project is to predict whether or not a user session generated revenue or not. The model for this is a binary classifier, meaning that there are only 2 possible outcomes:\n",
    "1. False(value:0) - The session did not generate revenue.\n",
    "2. True (value:1) - The session generated revenue.\n",
    "\n",
    "Let's look at the incidence for both outcomes."
   ]
  },
  {
   "cell_type": "code",
   "execution_count": 307,
   "metadata": {},
   "outputs": [
    {
     "name": "stdout",
     "output_type": "stream",
     "text": [
      "False    84.53\n",
      "True     15.47\n",
      "Name: Revenue, dtype: float64\n"
     ]
    },
    {
     "data": {
      "image/png": "[encoded data removed]",
      "text/plain": [
       "<Figure size 432x288 with 1 Axes>"
      ]
     },
     "metadata": {
      "needs_background": "light"
     },
     "output_type": "display_data"
    }
   ],
   "source": [
    "print(round(data.Revenue.value_counts(normalize=True),4)*100)\n",
    "plt.bar(['False','True'], data.Revenue.value_counts(normalize=True), color=sns.color_palette(\"GnBu_d\",n_colors=2))\n",
    "plt.title('Traget Incidence')\n",
    "plt.ylabel('Incidense as %')\n",
    "plt.xlabel('Revenue')\n",
    "plt.show();"
   ]
  },
  {
   "cell_type": "markdown",
   "metadata": {},
   "source": [
    "A 15% target incidence considering the amount of data in the dataset could work, however the proportion is still very small and I consider it to be imbalanced. Hence, further on I will consider data augmentation techniques in order to boost the target incidence with synthetic data. Now, it is time to pre-process the data based on these findings."
   ]
  },
  {
   "cell_type": "markdown",
   "metadata": {},
   "source": [
    "## 4 Data Pre-processing and Feature Engineering\n",
    "During the initial EDA I found out some variables that seemed to be numerical turned out they are better used as categorical variables. So far I have identified the following numerical features, either discrete or continuous: 'Administrative', 'Administrative_Duration', 'Informational', 'Informational_Duration', 'ProductRelated', 'ProductRelated_Duration', 'BounceRates', 'ExitRates', and 'PageValues'. The remaining columns are to be treated as categorical features, which are: 'Month', 'OperatingSystems', 'Region', 'Revenue', 'SpecialDay', 'TrafficType', 'VisitorType', and 'Weekend'. The target variable of the dataset is 'Revenue'.\n",
    "\n",
    "I will start by identifying the numerical and categorical feature names.\n",
    "\n",
    "### 4.1 One-hot-code categorica features"
   ]
  },
  {
   "cell_type": "code",
   "execution_count": 314,
   "metadata": {},
   "outputs": [],
   "source": [
    "#Create list with categorical features' names.\n",
    "nonum_feats_names = ['Month', 'OperatingSystems', 'Region', 'Revenue', \n",
    "      'SpecialDay', 'TrafficType', 'VisitorType', 'Weekend']\n",
    "\n",
    "#Create list with numerical features' names.\n",
    "num_cols_names = ['Administrative', 'Administrative_Duration', 'Informational', 'Informational_Duration', \n",
    "            'ProductRelated', 'ProductRelated_Duration', 'BounceRates', 'ExitRates','PageValues']"
   ]
  },
  {
   "cell_type": "code",
   "execution_count": 316,
   "metadata": {},
   "outputs": [
    {
     "name": "stdout",
     "output_type": "stream",
     "text": [
      "<class 'pandas.core.frame.DataFrame'>\n",
      "RangeIndex: 12330 entries, 0 to 12329\n",
      "Data columns (total 8 columns):\n",
      "Month               12330 non-null category\n",
      "OperatingSystems    12330 non-null category\n",
      "Region              12330 non-null category\n",
      "Revenue             12330 non-null category\n",
      "SpecialDay          12330 non-null category\n",
      "TrafficType         12330 non-null category\n",
      "VisitorType         12330 non-null category\n",
      "Weekend             12330 non-null category\n",
      "dtypes: category(8)\n",
      "memory usage: 98.8 KB\n"
     ]
    }
   ],
   "source": [
    "#Assign appropriate data type to categorical variables.\n",
    "nonum_feats = data[nonum_feats_names].astype('category')\n",
    "nonum_feats.info()"
   ]
  },
  {
   "cell_type": "code",
   "execution_count": 322,
   "metadata": {
    "scrolled": true
   },
   "outputs": [
    {
     "name": "stdout",
     "output_type": "stream",
     "text": [
      "<class 'pandas.core.frame.DataFrame'>\n",
      "RangeIndex: 12330 entries, 0 to 12329\n",
      "Data columns (total 52 columns):\n",
      "Month_Dec                        12330 non-null uint8\n",
      "Month_Feb                        12330 non-null uint8\n",
      "Month_Jul                        12330 non-null uint8\n",
      "Month_June                       12330 non-null uint8\n",
      "Month_Mar                        12330 non-null uint8\n",
      "Month_May                        12330 non-null uint8\n",
      "Month_Nov                        12330 non-null uint8\n",
      "Month_Oct                        12330 non-null uint8\n",
      "Month_Sep                        12330 non-null uint8\n",
      "OperatingSystems_2               12330 non-null uint8\n",
      "OperatingSystems_3               12330 non-null uint8\n",
      "OperatingSystems_4               12330 non-null uint8\n",
      "OperatingSystems_5               12330 non-null uint8\n",
      "OperatingSystems_6               12330 non-null uint8\n",
      "OperatingSystems_7               12330 non-null uint8\n",
      "OperatingSystems_8               12330 non-null uint8\n",
      "Region_2                         12330 non-null uint8\n",
      "Region_3                         12330 non-null uint8\n",
      "Region_4                         12330 non-null uint8\n",
      "Region_5                         12330 non-null uint8\n",
      "Region_6                         12330 non-null uint8\n",
      "Region_7                         12330 non-null uint8\n",
      "Region_8                         12330 non-null uint8\n",
      "Region_9                         12330 non-null uint8\n",
      "Revenue_True                     12330 non-null uint8\n",
      "SpecialDay_0.2                   12330 non-null uint8\n",
      "SpecialDay_0.4                   12330 non-null uint8\n",
      "SpecialDay_0.6                   12330 non-null uint8\n",
      "SpecialDay_0.8                   12330 non-null uint8\n",
      "SpecialDay_1.0                   12330 non-null uint8\n",
      "TrafficType_2                    12330 non-null uint8\n",
      "TrafficType_3                    12330 non-null uint8\n",
      "TrafficType_4                    12330 non-null uint8\n",
      "TrafficType_5                    12330 non-null uint8\n",
      "TrafficType_6                    12330 non-null uint8\n",
      "TrafficType_7                    12330 non-null uint8\n",
      "TrafficType_8                    12330 non-null uint8\n",
      "TrafficType_9                    12330 non-null uint8\n",
      "TrafficType_10                   12330 non-null uint8\n",
      "TrafficType_11                   12330 non-null uint8\n",
      "TrafficType_12                   12330 non-null uint8\n",
      "TrafficType_13                   12330 non-null uint8\n",
      "TrafficType_14                   12330 non-null uint8\n",
      "TrafficType_15                   12330 non-null uint8\n",
      "TrafficType_16                   12330 non-null uint8\n",
      "TrafficType_17                   12330 non-null uint8\n",
      "TrafficType_18                   12330 non-null uint8\n",
      "TrafficType_19                   12330 non-null uint8\n",
      "TrafficType_20                   12330 non-null uint8\n",
      "VisitorType_Other                12330 non-null uint8\n",
      "VisitorType_Returning_Visitor    12330 non-null uint8\n",
      "Weekend_True                     12330 non-null uint8\n",
      "dtypes: uint8(52)\n",
      "memory usage: 626.2 KB\n"
     ]
    }
   ],
   "source": [
    "#One-hot-code categorical variables and dropping the reference value.\n",
    "ohc_feats = pd.get_dummies(nonum_feats,drop_first=True)\n",
    "ohc_feats.info()"
   ]
  },
  {
   "cell_type": "markdown",
   "metadata": {},
   "source": [
    "Now, the categorical columns have gone up to 52 including the target variable which is going to be separated. Now that all variables are numerical, I want to test plain vanilla baseline models in the raw data to see how well they perform on data with very little pre-processing. In this case, all i have done is one hot code the categorical variables, but no transformations have been performed on the numercial features.\n",
    "\n",
    "### 4.2 Plain Vanilla Classification Models\n",
    "\n",
    "The classifiers that I will be testing are:\n",
    "* KNeighbors\n",
    "* DecisionTreeClassifier\n",
    "* LinearSVC\n",
    "* LogisticRegression\n",
    "* RandomForestClassifier\n",
    "* xgb.XGBClassifier"
   ]
  },
  {
   "cell_type": "code",
   "execution_count": 351,
   "metadata": {},
   "outputs": [
    {
     "name": "stdout",
     "output_type": "stream",
     "text": [
      "Classification Model:  KNeighborsClassifier(algorithm='auto', leaf_size=30, metric='minkowski',\n",
      "           metric_params=None, n_jobs=None, n_neighbors=5, p=2,\n",
      "           weights='uniform') \n",
      "\n",
      "              precision    recall  f1-score   support\n",
      "\n",
      "           0       0.87      0.97      0.92      2573\n",
      "           1       0.62      0.29      0.39       510\n",
      "\n",
      "   micro avg       0.85      0.85      0.85      3083\n",
      "   macro avg       0.75      0.63      0.65      3083\n",
      "weighted avg       0.83      0.85      0.83      3083\n",
      " \n",
      "\n",
      "Classification Model:  DecisionTreeClassifier(class_weight=None, criterion='gini', max_depth=None,\n",
      "            max_features=None, max_leaf_nodes=None,\n",
      "            min_impurity_decrease=0.0, min_impurity_split=None,\n",
      "            min_samples_leaf=1, min_samples_split=2,\n",
      "            min_weight_fraction_leaf=0.0, presort=False, random_state=None,\n",
      "            splitter='best') \n",
      "\n",
      "              precision    recall  f1-score   support\n",
      "\n",
      "           0       0.91      0.91      0.91      2573\n",
      "           1       0.55      0.55      0.55       510\n",
      "\n",
      "   micro avg       0.85      0.85      0.85      3083\n",
      "   macro avg       0.73      0.73      0.73      3083\n",
      "weighted avg       0.85      0.85      0.85      3083\n",
      " \n",
      "\n",
      "Classification Model:  LinearSVC(C=1.0, class_weight=None, dual=True, fit_intercept=True,\n",
      "     intercept_scaling=1, loss='squared_hinge', max_iter=1000,\n",
      "     multi_class='ovr', penalty='l2', random_state=None, tol=0.0001,\n",
      "     verbose=0) \n",
      "\n",
      "              precision    recall  f1-score   support\n",
      "\n",
      "           0       0.91      0.91      0.91      2573\n",
      "           1       0.54      0.53      0.53       510\n",
      "\n",
      "   micro avg       0.85      0.85      0.85      3083\n",
      "   macro avg       0.72      0.72      0.72      3083\n",
      "weighted avg       0.85      0.85      0.85      3083\n",
      " \n",
      "\n",
      "Classification Model:  LogisticRegression(C=1.0, class_weight=None, dual=False, fit_intercept=True,\n",
      "          intercept_scaling=1, max_iter=100, multi_class='warn',\n",
      "          n_jobs=None, penalty='l2', random_state=None, solver='warn',\n",
      "          tol=0.0001, verbose=0, warm_start=False) \n",
      "\n",
      "              precision    recall  f1-score   support\n",
      "\n",
      "           0       0.89      0.97      0.93      2573\n",
      "           1       0.72      0.37      0.49       510\n",
      "\n",
      "   micro avg       0.87      0.87      0.87      3083\n",
      "   macro avg       0.80      0.67      0.71      3083\n",
      "weighted avg       0.86      0.87      0.85      3083\n",
      " \n",
      "\n",
      "Classification Model:  RandomForestClassifier(bootstrap=True, class_weight=None, criterion='gini',\n",
      "            max_depth=None, max_features='auto', max_leaf_nodes=None,\n",
      "            min_impurity_decrease=0.0, min_impurity_split=None,\n",
      "            min_samples_leaf=1, min_samples_split=2,\n",
      "            min_weight_fraction_leaf=0.0, n_estimators='warn', n_jobs=None,\n",
      "            oob_score=False, random_state=None, verbose=0,\n",
      "            warm_start=False) \n",
      "\n",
      "              precision    recall  f1-score   support\n",
      "\n",
      "           0       0.91      0.97      0.94      2573\n",
      "           1       0.77      0.49      0.60       510\n",
      "\n",
      "   micro avg       0.89      0.89      0.89      3083\n",
      "   macro avg       0.84      0.73      0.77      3083\n",
      "weighted avg       0.88      0.89      0.88      3083\n",
      " \n",
      "\n",
      "Classification Model:  XGBClassifier(base_score=0.5, booster='gbtree', colsample_bylevel=1,\n",
      "       colsample_bynode=1, colsample_bytree=1, gamma=0, learning_rate=0.1,\n",
      "       max_delta_step=0, max_depth=3, min_child_weight=1, missing=None,\n",
      "       n_estimators=100, n_jobs=1, nthread=None,\n",
      "       objective='binary:logistic', random_state=0, reg_alpha=0,\n",
      "       reg_lambda=1, scale_pos_weight=1, seed=None, silent=None,\n",
      "       subsample=1, verbosity=1) \n",
      "\n",
      "              precision    recall  f1-score   support\n",
      "\n",
      "           0       0.92      0.97      0.94      2573\n",
      "           1       0.77      0.58      0.66       510\n",
      "\n",
      "   micro avg       0.90      0.90      0.90      3083\n",
      "   macro avg       0.84      0.77      0.80      3083\n",
      "weighted avg       0.90      0.90      0.90      3083\n",
      " \n",
      "\n"
     ]
    }
   ],
   "source": [
    "ohc_data = pd.concat([data[num_cols_names], ohc_feats.drop('Revenue_True', axis=1)],axis=1)\n",
    "target = ohc_feats.Revenue_True\n",
    "results1 = baseline_models(ohc_data,target)"
   ]
  },
  {
   "cell_type": "code",
   "execution_count": 349,
   "metadata": {},
   "outputs": [
    {
     "data": {
      "text/html": [
       "<div>\n",
       "<style scoped>\n",
       "    .dataframe tbody tr th:only-of-type {\n",
       "        vertical-align: middle;\n",
       "    }\n",
       "\n",
       "    .dataframe tbody tr th {\n",
       "        vertical-align: top;\n",
       "    }\n",
       "\n",
       "    .dataframe thead th {\n",
       "        text-align: right;\n",
       "    }\n",
       "</style>\n",
       "<table border=\"1\" class=\"dataframe\">\n",
       "  <thead>\n",
       "    <tr style=\"text-align: right;\">\n",
       "      <th></th>\n",
       "      <th>f1</th>\n",
       "      <th>accuracy</th>\n",
       "      <th>precision</th>\n",
       "      <th>recall</th>\n",
       "      <th>auc</th>\n",
       "    </tr>\n",
       "  </thead>\n",
       "  <tbody>\n",
       "    <tr>\n",
       "      <th>XGBoost</th>\n",
       "      <td>0.678404</td>\n",
       "      <td>0.911126</td>\n",
       "      <td>0.706601</td>\n",
       "      <td>0.652370</td>\n",
       "      <td>0.803458</td>\n",
       "    </tr>\n",
       "    <tr>\n",
       "      <th>RandomForest</th>\n",
       "      <td>0.562584</td>\n",
       "      <td>0.894583</td>\n",
       "      <td>0.696667</td>\n",
       "      <td>0.471783</td>\n",
       "      <td>0.718657</td>\n",
       "    </tr>\n",
       "    <tr>\n",
       "      <th>LogisticRegression</th>\n",
       "      <td>0.534091</td>\n",
       "      <td>0.893610</td>\n",
       "      <td>0.720307</td>\n",
       "      <td>0.424379</td>\n",
       "      <td>0.698364</td>\n",
       "    </tr>\n",
       "    <tr>\n",
       "      <th>DecisionTree</th>\n",
       "      <td>0.530398</td>\n",
       "      <td>0.854687</td>\n",
       "      <td>0.495108</td>\n",
       "      <td>0.571106</td>\n",
       "      <td>0.736689</td>\n",
       "    </tr>\n",
       "    <tr>\n",
       "      <th>KNeighbors</th>\n",
       "      <td>0.403509</td>\n",
       "      <td>0.867661</td>\n",
       "      <td>0.572614</td>\n",
       "      <td>0.311512</td>\n",
       "      <td>0.636249</td>\n",
       "    </tr>\n",
       "    <tr>\n",
       "      <th>LinearSVC</th>\n",
       "      <td>0.302583</td>\n",
       "      <td>0.877392</td>\n",
       "      <td>0.828283</td>\n",
       "      <td>0.185102</td>\n",
       "      <td>0.589331</td>\n",
       "    </tr>\n",
       "  </tbody>\n",
       "</table>\n",
       "</div>"
      ],
      "text/plain": [
       "                          f1  accuracy  precision    recall       auc\n",
       "XGBoost             0.678404  0.911126   0.706601  0.652370  0.803458\n",
       "RandomForest        0.562584  0.894583   0.696667  0.471783  0.718657\n",
       "LogisticRegression  0.534091  0.893610   0.720307  0.424379  0.698364\n",
       "DecisionTree        0.530398  0.854687   0.495108  0.571106  0.736689\n",
       "KNeighbors          0.403509  0.867661   0.572614  0.311512  0.636249\n",
       "LinearSVC           0.302583  0.877392   0.828283  0.185102  0.589331"
      ]
     },
     "execution_count": 349,
     "metadata": {},
     "output_type": "execute_result"
    }
   ],
   "source": [
    "#Display the results of the models as a dataframe\n",
    "#Sort models according to f1 score.\n",
    "results1.sort_values('f1',ascending=False)"
   ]
  },
  {
   "cell_type": "code",
   "execution_count": 350,
   "metadata": {},
   "outputs": [
    {
     "name": "stdout",
     "output_type": "stream",
     "text": [
      "Best Model per Metric\n",
      "F1: XGBoost\n",
      "Accuracy: XGBoost\n",
      "Precision: LogisticRegression\n",
      "Recall: XGBoost\n",
      "Auc: XGBoost\n"
     ]
    }
   ],
   "source": [
    "print('Best Model per Metric')\n",
    "for metric in results1.columns:\n",
    "    print(f'{metric.capitalize()}:',results.sort_values(metric,ascending=False).index[0])"
   ]
  },
  {
   "cell_type": "code",
   "execution_count": null,
   "metadata": {},
   "outputs": [],
   "source": []
  },
  {
   "cell_type": "code",
   "execution_count": 17,
   "metadata": {},
   "outputs": [
    {
     "data": {
      "text/html": [
       "<div>\n",
       "<style scoped>\n",
       "    .dataframe tbody tr th:only-of-type {\n",
       "        vertical-align: middle;\n",
       "    }\n",
       "\n",
       "    .dataframe tbody tr th {\n",
       "        vertical-align: top;\n",
       "    }\n",
       "\n",
       "    .dataframe thead th {\n",
       "        text-align: right;\n",
       "    }\n",
       "</style>\n",
       "<table border=\"1\" class=\"dataframe\">\n",
       "  <thead>\n",
       "    <tr style=\"text-align: right;\">\n",
       "      <th></th>\n",
       "      <th>Administrative</th>\n",
       "      <th>Administrative_Duration</th>\n",
       "      <th>Informational</th>\n",
       "      <th>Informational_Duration</th>\n",
       "      <th>ProductRelated</th>\n",
       "      <th>ProductRelated_Duration</th>\n",
       "      <th>BounceRates</th>\n",
       "      <th>ExitRates</th>\n",
       "      <th>PageValues</th>\n",
       "    </tr>\n",
       "  </thead>\n",
       "  <tbody>\n",
       "    <tr>\n",
       "      <th>count</th>\n",
       "      <td>1.233000e+04</td>\n",
       "      <td>1.233000e+04</td>\n",
       "      <td>1.233000e+04</td>\n",
       "      <td>1.233000e+04</td>\n",
       "      <td>1.233000e+04</td>\n",
       "      <td>1.233000e+04</td>\n",
       "      <td>1.233000e+04</td>\n",
       "      <td>1.233000e+04</td>\n",
       "      <td>1.233000e+04</td>\n",
       "    </tr>\n",
       "    <tr>\n",
       "      <th>mean</th>\n",
       "      <td>-1.375191e-15</td>\n",
       "      <td>2.074316e-15</td>\n",
       "      <td>6.987391e-15</td>\n",
       "      <td>1.765777e-16</td>\n",
       "      <td>-2.849753e-16</td>\n",
       "      <td>1.021684e-15</td>\n",
       "      <td>1.333384e-15</td>\n",
       "      <td>-2.622846e-16</td>\n",
       "      <td>-4.953810e-15</td>\n",
       "    </tr>\n",
       "    <tr>\n",
       "      <th>std</th>\n",
       "      <td>1.000041e+00</td>\n",
       "      <td>1.000041e+00</td>\n",
       "      <td>1.000041e+00</td>\n",
       "      <td>1.000041e+00</td>\n",
       "      <td>1.000041e+00</td>\n",
       "      <td>1.000041e+00</td>\n",
       "      <td>1.000041e+00</td>\n",
       "      <td>1.000041e+00</td>\n",
       "      <td>1.000041e+00</td>\n",
       "    </tr>\n",
       "    <tr>\n",
       "      <th>min</th>\n",
       "      <td>-6.969930e-01</td>\n",
       "      <td>-4.571914e-01</td>\n",
       "      <td>-3.964779e-01</td>\n",
       "      <td>-2.449305e-01</td>\n",
       "      <td>-7.134884e-01</td>\n",
       "      <td>-6.243475e-01</td>\n",
       "      <td>-4.576830e-01</td>\n",
       "      <td>-8.863706e-01</td>\n",
       "      <td>-3.171778e-01</td>\n",
       "    </tr>\n",
       "    <tr>\n",
       "      <th>25%</th>\n",
       "      <td>-6.969930e-01</td>\n",
       "      <td>-4.571914e-01</td>\n",
       "      <td>-3.964779e-01</td>\n",
       "      <td>-2.449305e-01</td>\n",
       "      <td>-5.560920e-01</td>\n",
       "      <td>-5.281214e-01</td>\n",
       "      <td>-4.576830e-01</td>\n",
       "      <td>-5.923930e-01</td>\n",
       "      <td>-3.171778e-01</td>\n",
       "    </tr>\n",
       "    <tr>\n",
       "      <th>50%</th>\n",
       "      <td>-3.959377e-01</td>\n",
       "      <td>-4.147639e-01</td>\n",
       "      <td>-3.964779e-01</td>\n",
       "      <td>-2.449305e-01</td>\n",
       "      <td>-3.087548e-01</td>\n",
       "      <td>-3.113566e-01</td>\n",
       "      <td>-3.934903e-01</td>\n",
       "      <td>-3.686913e-01</td>\n",
       "      <td>-3.171778e-01</td>\n",
       "    </tr>\n",
       "    <tr>\n",
       "      <th>75%</th>\n",
       "      <td>5.072280e-01</td>\n",
       "      <td>7.035981e-02</td>\n",
       "      <td>-3.964779e-01</td>\n",
       "      <td>-2.449305e-01</td>\n",
       "      <td>1.409492e-01</td>\n",
       "      <td>1.407881e-01</td>\n",
       "      <td>-1.109348e-01</td>\n",
       "      <td>1.425510e-01</td>\n",
       "      <td>-3.171778e-01</td>\n",
       "    </tr>\n",
       "    <tr>\n",
       "      <th>max</th>\n",
       "      <td>7.431499e+00</td>\n",
       "      <td>1.876956e+01</td>\n",
       "      <td>1.849960e+01</td>\n",
       "      <td>1.786868e+01</td>\n",
       "      <td>1.513858e+01</td>\n",
       "      <td>3.280678e+01</td>\n",
       "      <td>3.667189e+00</td>\n",
       "      <td>3.229316e+00</td>\n",
       "      <td>1.916634e+01</td>\n",
       "    </tr>\n",
       "  </tbody>\n",
       "</table>\n",
       "</div>"
      ],
      "text/plain": [
       "       Administrative  Administrative_Duration  Informational  \\\n",
       "count    1.233000e+04             1.233000e+04   1.233000e+04   \n",
       "mean    -1.375191e-15             2.074316e-15   6.987391e-15   \n",
       "std      1.000041e+00             1.000041e+00   1.000041e+00   \n",
       "min     -6.969930e-01            -4.571914e-01  -3.964779e-01   \n",
       "25%     -6.969930e-01            -4.571914e-01  -3.964779e-01   \n",
       "50%     -3.959377e-01            -4.147639e-01  -3.964779e-01   \n",
       "75%      5.072280e-01             7.035981e-02  -3.964779e-01   \n",
       "max      7.431499e+00             1.876956e+01   1.849960e+01   \n",
       "\n",
       "       Informational_Duration  ProductRelated  ProductRelated_Duration  \\\n",
       "count            1.233000e+04    1.233000e+04             1.233000e+04   \n",
       "mean             1.765777e-16   -2.849753e-16             1.021684e-15   \n",
       "std              1.000041e+00    1.000041e+00             1.000041e+00   \n",
       "min             -2.449305e-01   -7.134884e-01            -6.243475e-01   \n",
       "25%             -2.449305e-01   -5.560920e-01            -5.281214e-01   \n",
       "50%             -2.449305e-01   -3.087548e-01            -3.113566e-01   \n",
       "75%             -2.449305e-01    1.409492e-01             1.407881e-01   \n",
       "max              1.786868e+01    1.513858e+01             3.280678e+01   \n",
       "\n",
       "        BounceRates     ExitRates    PageValues  \n",
       "count  1.233000e+04  1.233000e+04  1.233000e+04  \n",
       "mean   1.333384e-15 -2.622846e-16 -4.953810e-15  \n",
       "std    1.000041e+00  1.000041e+00  1.000041e+00  \n",
       "min   -4.576830e-01 -8.863706e-01 -3.171778e-01  \n",
       "25%   -4.576830e-01 -5.923930e-01 -3.171778e-01  \n",
       "50%   -3.934903e-01 -3.686913e-01 -3.171778e-01  \n",
       "75%   -1.109348e-01  1.425510e-01 -3.171778e-01  \n",
       "max    3.667189e+00  3.229316e+00  1.916634e+01  "
      ]
     },
     "execution_count": 17,
     "metadata": {},
     "output_type": "execute_result"
    }
   ],
   "source": [
    "num_cols = ['Administrative', 'Administrative_Duration', 'Informational', 'Informational_Duration', \n",
    "            'ProductRelated', 'ProductRelated_Duration', 'BounceRates', 'ExitRates','PageValues']\n",
    "scaler = StandardScaler()\n",
    "to_scale = data[num_cols]\n",
    "scaled_df = scaler.fit_transform(to_scale)\n",
    "scaled_df = pd.DataFrame(scaled_df,columns=num_cols)\n",
    "scaled_df.describe()"
   ]
  },
  {
   "cell_type": "code",
   "execution_count": 18,
   "metadata": {},
   "outputs": [
    {
     "data": {
      "text/html": [
       "<div>\n",
       "<style scoped>\n",
       "    .dataframe tbody tr th:only-of-type {\n",
       "        vertical-align: middle;\n",
       "    }\n",
       "\n",
       "    .dataframe tbody tr th {\n",
       "        vertical-align: top;\n",
       "    }\n",
       "\n",
       "    .dataframe thead th {\n",
       "        text-align: right;\n",
       "    }\n",
       "</style>\n",
       "<table border=\"1\" class=\"dataframe\">\n",
       "  <thead>\n",
       "    <tr style=\"text-align: right;\">\n",
       "      <th></th>\n",
       "      <th>Administrative</th>\n",
       "      <th>Administrative_Duration</th>\n",
       "      <th>Informational</th>\n",
       "      <th>Informational_Duration</th>\n",
       "      <th>ProductRelated</th>\n",
       "      <th>ProductRelated_Duration</th>\n",
       "      <th>BounceRates</th>\n",
       "      <th>ExitRates</th>\n",
       "      <th>PageValues</th>\n",
       "      <th>Month_Dec</th>\n",
       "      <th>...</th>\n",
       "      <th>TrafficType_3</th>\n",
       "      <th>TrafficType_4</th>\n",
       "      <th>TrafficType_5</th>\n",
       "      <th>TrafficType_6</th>\n",
       "      <th>TrafficType_7</th>\n",
       "      <th>TrafficType_8</th>\n",
       "      <th>TrafficType_9</th>\n",
       "      <th>VisitorType_Other</th>\n",
       "      <th>VisitorType_Returning_Visitor</th>\n",
       "      <th>Weekend_True</th>\n",
       "    </tr>\n",
       "  </thead>\n",
       "  <tbody>\n",
       "    <tr>\n",
       "      <th>0</th>\n",
       "      <td>-0.696993</td>\n",
       "      <td>-0.457191</td>\n",
       "      <td>-0.396478</td>\n",
       "      <td>-0.244931</td>\n",
       "      <td>-0.691003</td>\n",
       "      <td>-0.624348</td>\n",
       "      <td>3.667189</td>\n",
       "      <td>3.229316</td>\n",
       "      <td>-0.317178</td>\n",
       "      <td>0</td>\n",
       "      <td>...</td>\n",
       "      <td>0</td>\n",
       "      <td>0</td>\n",
       "      <td>0</td>\n",
       "      <td>0</td>\n",
       "      <td>0</td>\n",
       "      <td>0</td>\n",
       "      <td>0</td>\n",
       "      <td>0</td>\n",
       "      <td>1</td>\n",
       "      <td>0</td>\n",
       "    </tr>\n",
       "    <tr>\n",
       "      <th>1</th>\n",
       "      <td>-0.696993</td>\n",
       "      <td>-0.457191</td>\n",
       "      <td>-0.396478</td>\n",
       "      <td>-0.244931</td>\n",
       "      <td>-0.668518</td>\n",
       "      <td>-0.590903</td>\n",
       "      <td>-0.457683</td>\n",
       "      <td>1.171473</td>\n",
       "      <td>-0.317178</td>\n",
       "      <td>0</td>\n",
       "      <td>...</td>\n",
       "      <td>0</td>\n",
       "      <td>0</td>\n",
       "      <td>0</td>\n",
       "      <td>0</td>\n",
       "      <td>0</td>\n",
       "      <td>0</td>\n",
       "      <td>0</td>\n",
       "      <td>0</td>\n",
       "      <td>1</td>\n",
       "      <td>0</td>\n",
       "    </tr>\n",
       "    <tr>\n",
       "      <th>2</th>\n",
       "      <td>-0.696993</td>\n",
       "      <td>-0.457191</td>\n",
       "      <td>-0.396478</td>\n",
       "      <td>-0.244931</td>\n",
       "      <td>-0.691003</td>\n",
       "      <td>-0.624348</td>\n",
       "      <td>3.667189</td>\n",
       "      <td>3.229316</td>\n",
       "      <td>-0.317178</td>\n",
       "      <td>0</td>\n",
       "      <td>...</td>\n",
       "      <td>1</td>\n",
       "      <td>0</td>\n",
       "      <td>0</td>\n",
       "      <td>0</td>\n",
       "      <td>0</td>\n",
       "      <td>0</td>\n",
       "      <td>0</td>\n",
       "      <td>0</td>\n",
       "      <td>1</td>\n",
       "      <td>0</td>\n",
       "    </tr>\n",
       "    <tr>\n",
       "      <th>3</th>\n",
       "      <td>-0.696993</td>\n",
       "      <td>-0.457191</td>\n",
       "      <td>-0.396478</td>\n",
       "      <td>-0.244931</td>\n",
       "      <td>-0.668518</td>\n",
       "      <td>-0.622954</td>\n",
       "      <td>0.573535</td>\n",
       "      <td>1.994610</td>\n",
       "      <td>-0.317178</td>\n",
       "      <td>0</td>\n",
       "      <td>...</td>\n",
       "      <td>0</td>\n",
       "      <td>1</td>\n",
       "      <td>0</td>\n",
       "      <td>0</td>\n",
       "      <td>0</td>\n",
       "      <td>0</td>\n",
       "      <td>0</td>\n",
       "      <td>0</td>\n",
       "      <td>1</td>\n",
       "      <td>0</td>\n",
       "    </tr>\n",
       "    <tr>\n",
       "      <th>4</th>\n",
       "      <td>-0.696993</td>\n",
       "      <td>-0.457191</td>\n",
       "      <td>-0.396478</td>\n",
       "      <td>-0.244931</td>\n",
       "      <td>-0.488636</td>\n",
       "      <td>-0.296430</td>\n",
       "      <td>-0.045196</td>\n",
       "      <td>0.142551</td>\n",
       "      <td>-0.317178</td>\n",
       "      <td>0</td>\n",
       "      <td>...</td>\n",
       "      <td>0</td>\n",
       "      <td>1</td>\n",
       "      <td>0</td>\n",
       "      <td>0</td>\n",
       "      <td>0</td>\n",
       "      <td>0</td>\n",
       "      <td>0</td>\n",
       "      <td>0</td>\n",
       "      <td>1</td>\n",
       "      <td>1</td>\n",
       "    </tr>\n",
       "  </tbody>\n",
       "</table>\n",
       "<p>5 rows × 61 columns</p>\n",
       "</div>"
      ],
      "text/plain": [
       "   Administrative  Administrative_Duration  Informational  \\\n",
       "0       -0.696993                -0.457191      -0.396478   \n",
       "1       -0.696993                -0.457191      -0.396478   \n",
       "2       -0.696993                -0.457191      -0.396478   \n",
       "3       -0.696993                -0.457191      -0.396478   \n",
       "4       -0.696993                -0.457191      -0.396478   \n",
       "\n",
       "   Informational_Duration  ProductRelated  ProductRelated_Duration  \\\n",
       "0               -0.244931       -0.691003                -0.624348   \n",
       "1               -0.244931       -0.668518                -0.590903   \n",
       "2               -0.244931       -0.691003                -0.624348   \n",
       "3               -0.244931       -0.668518                -0.622954   \n",
       "4               -0.244931       -0.488636                -0.296430   \n",
       "\n",
       "   BounceRates  ExitRates  PageValues  Month_Dec      ...       TrafficType_3  \\\n",
       "0     3.667189   3.229316   -0.317178          0      ...                   0   \n",
       "1    -0.457683   1.171473   -0.317178          0      ...                   0   \n",
       "2     3.667189   3.229316   -0.317178          0      ...                   1   \n",
       "3     0.573535   1.994610   -0.317178          0      ...                   0   \n",
       "4    -0.045196   0.142551   -0.317178          0      ...                   0   \n",
       "\n",
       "   TrafficType_4  TrafficType_5  TrafficType_6  TrafficType_7  TrafficType_8  \\\n",
       "0              0              0              0              0              0   \n",
       "1              0              0              0              0              0   \n",
       "2              0              0              0              0              0   \n",
       "3              1              0              0              0              0   \n",
       "4              1              0              0              0              0   \n",
       "\n",
       "   TrafficType_9  VisitorType_Other  VisitorType_Returning_Visitor  \\\n",
       "0              0                  0                              1   \n",
       "1              0                  0                              1   \n",
       "2              0                  0                              1   \n",
       "3              0                  0                              1   \n",
       "4              0                  0                              1   \n",
       "\n",
       "   Weekend_True  \n",
       "0             0  \n",
       "1             0  \n",
       "2             0  \n",
       "3             0  \n",
       "4             1  \n",
       "\n",
       "[5 rows x 61 columns]"
      ]
     },
     "execution_count": 18,
     "metadata": {},
     "output_type": "execute_result"
    }
   ],
   "source": [
    "final_data = pd.concat([scaled_df,ohc_feats],axis=1)\n",
    "final_data.head()"
   ]
  },
  {
   "cell_type": "code",
   "execution_count": 29,
   "metadata": {
    "scrolled": true
   },
   "outputs": [
    {
     "data": {
      "image/png": "[encoded data removed]",
      "text/plain": [
       "<Figure size 1008x1008 with 2 Axes>"
      ]
     },
     "metadata": {
      "needs_background": "light"
     },
     "output_type": "display_data"
    }
   ],
   "source": [
    "plt.figure(figsize=(14,14))\n",
    "cmap = sns.diverging_palette(220, 20, sep=20, as_cmap=True)\n",
    "sns.heatmap(final_data.corr(),vmin=-0.75,vmax=0.75,center=0, cmap=cmap);"
   ]
  },
  {
   "cell_type": "code",
   "execution_count": 46,
   "metadata": {},
   "outputs": [
    {
     "data": {
      "text/plain": [
       "PageValues                 0.492569\n",
       "ProductRelated             0.158538\n",
       "Month_Nov                  0.154774\n",
       "ProductRelated_Duration    0.152373\n",
       "Administrative             0.138917\n",
       "TrafficType_2              0.116347\n",
       "Informational              0.095200\n",
       "Administrative_Duration    0.093587\n",
       "Informational_Duration     0.070345\n",
       "OperatingSystems_2         0.060040\n",
       "Name: Revenue_True, dtype: float64"
      ]
     },
     "execution_count": 46,
     "metadata": {},
     "output_type": "execute_result"
    }
   ],
   "source": [
    "corr = pd.DataFrame(final_data.corr(),)\n",
    "corr.Revenue_True.sort_values(ascending=False)[1:11]"
   ]
  },
  {
   "cell_type": "code",
   "execution_count": 47,
   "metadata": {},
   "outputs": [],
   "source": [
    "target = final_data['Revenue_True']\n",
    "feat = final_data.drop('Revenue_True', axis=1)"
   ]
  },
  {
   "cell_type": "code",
   "execution_count": 53,
   "metadata": {},
   "outputs": [
    {
     "name": "stdout",
     "output_type": "stream",
     "text": [
      "0.90536213197346\n"
     ]
    },
    {
     "data": {
      "text/plain": [
       "17"
      ]
     },
     "execution_count": 53,
     "metadata": {},
     "output_type": "execute_result"
    }
   ],
   "source": [
    "pca = PCA(n_components=.9)\n",
    "pca_feats = pca.fit_transform(feat)\n",
    "print(np.sum(pca.explained_variance_ratio_))\n",
    "pca.n_components_"
   ]
  },
  {
   "cell_type": "code",
   "execution_count": 54,
   "metadata": {},
   "outputs": [
    {
     "data": {
      "image/png": "[encoded data removed]",
      "text/plain": [
       "<Figure size 576x576 with 2 Axes>"
      ]
     },
     "metadata": {
      "needs_background": "light"
     },
     "output_type": "display_data"
    }
   ],
   "source": [
    "plt.figure(figsize=(8,8))\n",
    "sns.heatmap(pd.DataFrame(pca_feats).corr(),vmin=-0.75,vmax=0.75,center=0);"
   ]
  },
  {
   "cell_type": "code",
   "execution_count": null,
   "metadata": {},
   "outputs": [],
   "source": [
    "X_train, X_test, y_train,y_test = "
   ]
  },
  {
   "cell_type": "code",
   "execution_count": 73,
   "metadata": {
    "scrolled": false
   },
   "outputs": [
    {
     "data": {
      "image/png": "[encoded data removed]",
      "text/plain": [
       "<Figure size 576x864 with 1 Axes>"
      ]
     },
     "metadata": {
      "needs_background": "light"
     },
     "output_type": "display_data"
    }
   ],
   "source": [
    "tree_clf = DecisionTreeClassifier() \n",
    "tree_clf.fit(feat, target)\n",
    "def plot_feature_importances(model):\n",
    "    n_features = feat.shape[1]\n",
    "    plt.figure(figsize=(8,12))\n",
    "    plt.barh(range(n_features), model.feature_importances_, align='center') \n",
    "    plt.yticks(np.arange(n_features), feat.columns.values) \n",
    "    plt.xlabel(\"Feature importance\")\n",
    "    plt.ylabel(\"Feature\")\n",
    "    plt.show();\n",
    "\n",
    "plot_feature_importances(tree_clf)"
   ]
  },
  {
   "cell_type": "code",
   "execution_count": 89,
   "metadata": {},
   "outputs": [],
   "source": [
    "X_train, X_test, y_train, y_test = train_test_split(feat,target,test_size=0.35,random_state=617)"
   ]
  },
  {
   "cell_type": "code",
   "execution_count": 197,
   "metadata": {},
   "outputs": [
    {
     "data": {
      "application/vnd.jupyter.widget-view+json": {
       "model_id": "",
       "version_major": 2,
       "version_minor": 0
      },
      "text/plain": [
       "HBox(children=(IntProgress(value=0, description='Optimization Progress', max=120, style=ProgressStyle(descript…"
      ]
     },
     "metadata": {},
     "output_type": "display_data"
    },
    {
     "name": "stdout",
     "output_type": "stream",
     "text": [
      "Generation 1 - Current best internal CV score: 0.6759315464279728\n",
      "Generation 2 - Current best internal CV score: 0.6759315464279728\n",
      "Generation 3 - Current best internal CV score: 0.6759315464279728\n",
      "Generation 4 - Current best internal CV score: 0.6776836303922799\n",
      "Generation 5 - Current best internal CV score: 0.6789019388024096\n",
      "\n",
      "Best pipeline: RandomForestClassifier(LinearSVC(input_matrix, C=1.0, dual=False, loss=squared_hinge, penalty=l1, tol=0.1), bootstrap=True, criterion=entropy, max_features=0.35000000000000003, min_samples_leaf=16, min_samples_split=10, n_estimators=100)\n",
      "0.6451063829787235\n"
     ]
    }
   ],
   "source": [
    "pipeline_optimizer = TPOTClassifier(generations=5, population_size=20, cv=5,\n",
    "                                    random_state=42, verbosity=2, scoring='f1')\n",
    "pipeline_optimizer.fit(X_train, y_train)\n",
    "print(pipeline_optimizer.score(X_test, y_test))"
   ]
  },
  {
   "cell_type": "code",
   "execution_count": 225,
   "metadata": {},
   "outputs": [
    {
     "name": "stdout",
     "output_type": "stream",
     "text": [
      "              precision    recall  f1-score   support\n",
      "\n",
      "           0       0.93      0.96      0.94      3667\n",
      "           1       0.71      0.59      0.65       649\n",
      "\n",
      "   micro avg       0.90      0.90      0.90      4316\n",
      "   macro avg       0.82      0.78      0.79      4316\n",
      "weighted avg       0.90      0.90      0.90      4316\n",
      "\n"
     ]
    }
   ],
   "source": [
    "clf = RandomForestClassifier(bootstrap=True, criterion='entropy',max_features=0.4, \n",
    "                             min_samples_leaf=17, min_samples_split=10, n_estimators=100)\n",
    "clf.fit(X_train, y_train)\n",
    "test_preds = clf.predict(X_test)\n",
    "print(classification_report(y_test, test_preds))"
   ]
  },
  {
   "cell_type": "code",
   "execution_count": 90,
   "metadata": {},
   "outputs": [
    {
     "name": "stdout",
     "output_type": "stream",
     "text": [
      "              precision    recall  f1-score   support\n",
      "\n",
      "           0       0.90      0.96      0.93      3667\n",
      "           1       0.66      0.43      0.52       649\n",
      "\n",
      "   micro avg       0.88      0.88      0.88      4316\n",
      "   macro avg       0.78      0.69      0.72      4316\n",
      "weighted avg       0.87      0.88      0.87      4316\n",
      "\n"
     ]
    }
   ],
   "source": [
    "clf = KNeighborsClassifier()\n",
    "clf.fit(X_train, y_train)\n",
    "test_preds = clf.predict(X_test)\n",
    "print(classification_report(y_test, test_preds))"
   ]
  },
  {
   "cell_type": "code",
   "execution_count": 92,
   "metadata": {},
   "outputs": [
    {
     "name": "stdout",
     "output_type": "stream",
     "text": [
      "              precision    recall  f1-score   support\n",
      "\n",
      "           0       0.92      0.92      0.92      3667\n",
      "           1       0.56      0.57      0.56       649\n",
      "\n",
      "   micro avg       0.87      0.87      0.87      4316\n",
      "   macro avg       0.74      0.74      0.74      4316\n",
      "weighted avg       0.87      0.87      0.87      4316\n",
      "\n"
     ]
    }
   ],
   "source": [
    "clf = DecisionTreeClassifier()\n",
    "clf.fit(X_train, y_train)\n",
    "test_preds = clf.predict(X_test)\n",
    "print(classification_report(y_test, test_preds))"
   ]
  },
  {
   "cell_type": "markdown",
   "metadata": {},
   "source": [
    "## 7. Bibliography and References\n",
    "* Dataset: Sakar, C.O., Polat, S.O., Katircioglu, M. et al. Neural Comput & Applic (2018). https://link.springer.com/article/10.1007%2Fs00521-018-3523-0"
   ]
  },
  {
   "cell_type": "code",
   "execution_count": 227,
   "metadata": {},
   "outputs": [
    {
     "data": {
      "text/plain": [
       "Administrative             1.103425e+01\n",
       "Administrative_Duration    3.125085e+04\n",
       "Informational              1.613297e+00\n",
       "Informational_Duration     1.981036e+04\n",
       "ProductRelated             1.978070e+03\n",
       "ProductRelated_Duration    3.662130e+06\n",
       "BounceRates                2.351117e-03\n",
       "ExitRates                  2.361624e-03\n",
       "PageValues                 3.447868e+02\n",
       "SpecialDay                 3.956808e-02\n",
       "OperatingSystems           8.305129e-01\n",
       "Browser                    2.949039e+00\n",
       "Region                     5.767640e+00\n",
       "TrafficType                1.620199e+01\n",
       "Weekend                    1.785135e-01\n",
       "Revenue                    1.308093e-01\n",
       "dtype: float64"
      ]
     },
     "execution_count": 227,
     "metadata": {},
     "output_type": "execute_result"
    }
   ],
   "source": [
    "data.var()"
   ]
  },
  {
   "cell_type": "code",
   "execution_count": null,
   "metadata": {},
   "outputs": [],
   "source": []
  }
 ],
 "metadata": {
  "kernelspec": {
   "display_name": "Python 3",
   "language": "python",
   "name": "python3"
  },
  "language_info": {
   "codemirror_mode": {
    "name": "ipython",
    "version": 3
   },
   "file_extension": ".py",
   "mimetype": "text/x-python",
   "name": "python",
   "nbconvert_exporter": "python",
   "pygments_lexer": "ipython3",
   "version": "3.7.1"
  }
 },
 "nbformat": 4,
 "nbformat_minor": 2
}
